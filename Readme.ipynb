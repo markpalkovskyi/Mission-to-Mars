{
 "cells": [
  {
   "cell_type": "markdown",
   "id": "d3b87296",
   "metadata": {},
   "source": [
    "# Mission to Mars"
   ]
  },
  {
   "cell_type": "markdown",
   "id": "c7d5bdd9",
   "metadata": {},
   "source": [
    "# Overview of Project"
   ]
  },
  {
   "cell_type": "code",
   "execution_count": null,
   "id": "dce355c4",
   "metadata": {},
   "outputs": [],
   "source": [
    "Robin web app is looking good and functioning well, but she wants to add more polish to it.\n",
    "She had been admiring images of Mars’s hemispheres online and realized that the site is scraping friendly.\n",
    "She would like to adjust the current web app to include all four of the hemisphere images.\n",
    "To do this, you’ll use BeautifulSoup and Splinter to scrape full-resolution images of Mars’s hemispheres and the titles of those images, \n",
    "store the scraped data on a Mongo database, use a web application to display the data, and alter the design of the web app to accommodate these images."
   ]
  },
  {
   "cell_type": "markdown",
   "id": "3bee90d9",
   "metadata": {},
   "source": [
    "# Resources "
   ]
  },
  {
   "cell_type": "code",
   "execution_count": null,
   "id": "b9680939",
   "metadata": {},
   "outputs": [],
   "source": [
    "Jupyter Notebook, Python and MongoDB\n",
    "MongoDB, Python, VS Code, Flask"
   ]
  },
  {
   "cell_type": "markdown",
   "id": "ac60bc76",
   "metadata": {},
   "source": [
    "# Task"
   ]
  },
  {
   "cell_type": "code",
   "execution_count": null,
   "id": "e4c53b58",
   "metadata": {},
   "outputs": [],
   "source": [
    "1.Using BeautifulSoup and Splinter,\n",
    "you’ll scrape full-resolution images of Mars’s hemispheres and the titles of those images.\n",
    "2.Update the Web App with Mars’s Hemisphere Images and Titles\n",
    "3.make it mobile-responsive"
   ]
  }
 ],
 "metadata": {
  "kernelspec": {
   "display_name": "PythonData",
   "language": "python",
   "name": "pythondata"
  },
  "language_info": {
   "codemirror_mode": {
    "name": "ipython",
    "version": 3
   },
   "file_extension": ".py",
   "mimetype": "text/x-python",
   "name": "python",
   "nbconvert_exporter": "python",
   "pygments_lexer": "ipython3",
   "version": "3.9.7"
  }
 },
 "nbformat": 4,
 "nbformat_minor": 5
}
